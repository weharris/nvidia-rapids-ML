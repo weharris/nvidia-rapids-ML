{
 "cells": [
  {
   "cell_type": "code",
   "execution_count": null,
   "id": "7c530627",
   "metadata": {},
   "outputs": [
    {
     "name": "stdout",
     "output_type": "stream",
     "text": [
      "2-01_intro.ipynb\n",
      "2-02_population_viz.ipynb\n",
      "2-03_k-means.ipynb\n",
      "2-04_DBSCAN.ipynb\n",
      "2-05_logistic_regression.ipynb\n",
      "2-06_knn.ipynb\n",
      "2-07_kmeans_dask.ipynb\n",
      "2-08_xgboost.ipynb\n",
      "2-09_cugraph.ipynb\n",
      "data/\n",
      "data/node_graph_map.csv\n",
      "data/road_nodes_2-06.csv\n",
      "data/pop_2-08.csv\n",
      "data/road_nodes_2-09.csv\n",
      "data/pop_2-05.csv\n",
      "data/pop5x_2-07.csv\n",
      "data/road_graph_speed_2-09.csv\n",
      "data/road_nodes_2-07.csv\n",
      "data/road_graph_2-09.csv\n",
      "data/hospitals_2-06.csv\n",
      "data/pop_2-03.csv\n",
      "data/hospitals_2-07.csv\n",
      "data/pop_2-04.csv\n",
      "data/pop_2-02.csv\n",
      "data/pop_2-07.csv\n"
     ]
    }
   ],
   "source": [
    "!tar chvfz notebook.tar.gz *"
   ]
  },
  {
   "cell_type": "code",
   "execution_count": null,
   "id": "ac101898",
   "metadata": {},
   "outputs": [],
   "source": []
  }
 ],
 "metadata": {
  "kernelspec": {
   "display_name": "Python 3",
   "language": "python",
   "name": "python3"
  },
  "language_info": {
   "codemirror_mode": {
    "name": "ipython",
    "version": 3
   },
   "file_extension": ".py",
   "mimetype": "text/x-python",
   "name": "python",
   "nbconvert_exporter": "python",
   "pygments_lexer": "ipython3",
   "version": "3.7.10"
  }
 },
 "nbformat": 4,
 "nbformat_minor": 5
}
